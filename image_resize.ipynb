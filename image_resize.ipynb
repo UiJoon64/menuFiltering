{
 "cells": [
  {
   "cell_type": "code",
   "execution_count": 16,
   "id": "2ef040ce",
   "metadata": {},
   "outputs": [
    {
     "ename": "FileNotFoundError",
     "evalue": "[WinError 3] 지정된 경로를 찾을 수 없습니다: 'D:/AIhub_food_TRAIN/음식 이미지 및 영양정보 텍스트/Training/[원천]음식분류_TRAIN_001/train/0101100101_011_01011001_160273203821324.jpeg'",
     "output_type": "error",
     "traceback": [
      "\u001b[1;31m---------------------------------------------------------------------------\u001b[0m",
      "\u001b[1;31mFileNotFoundError\u001b[0m                         Traceback (most recent call last)",
      "Cell \u001b[1;32mIn[16], line 13\u001b[0m\n\u001b[0;32m     11\u001b[0m     image_folder \u001b[38;5;241m=\u001b[39m ori_dir\u001b[38;5;241m+\u001b[39mfolder_name\n\u001b[0;32m     12\u001b[0m \u001b[38;5;66;03m#    print(image_folder)\u001b[39;00m\n\u001b[1;32m---> 13\u001b[0m     \u001b[38;5;28;01mfor\u001b[39;00m image_file \u001b[38;5;129;01min\u001b[39;00m \u001b[43mos\u001b[49m\u001b[38;5;241;43m.\u001b[39;49m\u001b[43mlistdir\u001b[49m\u001b[43m(\u001b[49m\u001b[43mimage_folder\u001b[49m\u001b[43m)\u001b[49m:\n\u001b[0;32m     14\u001b[0m \u001b[38;5;66;03m#       print(image_file)\u001b[39;00m\n\u001b[0;32m     15\u001b[0m         image_file_dir\u001b[38;5;241m=\u001b[39mimage_folder\u001b[38;5;241m+\u001b[39m\u001b[38;5;124m\"\u001b[39m\u001b[38;5;124m/\u001b[39m\u001b[38;5;124m\"\u001b[39m\u001b[38;5;241m+\u001b[39mimage_file\n\u001b[0;32m     16\u001b[0m \u001b[38;5;66;03m#        print(image_file_dir)\u001b[39;00m\n",
      "\u001b[1;31mFileNotFoundError\u001b[0m: [WinError 3] 지정된 경로를 찾을 수 없습니다: 'D:/AIhub_food_TRAIN/음식 이미지 및 영양정보 텍스트/Training/[원천]음식분류_TRAIN_001/train/0101100101_011_01011001_160273203821324.jpeg'"
     ]
    }
   ],
   "source": [
    "### 이미지 resize\n",
    "import os\n",
    "\n",
    "folder_names = os.listdir(\"D:/AIhub_food_TRAIN/음식 이미지 및 영양정보 텍스트/Training/[원천]음식분류_TRAIN_001/train/01011001/\")\n",
    "\n",
    "ori_dir = \"D:/AIhub_food_TRAIN/음식 이미지 및 영양정보 텍스트/Training/[원천]음식분류_TRAIN_001/train/01011001\"\n",
    "\n",
    "\n",
    "for folder_name in folder_names:\n",
    "    os.mkdir(ori_dir+folder_name+\"_resize\")\n",
    "    image_folder = ori_dir+folder_name\n",
    "#    print(image_folder)\n",
    "    for image_file in os.listdir(image_folder):\n",
    "#       print(image_file)\n",
    "        image_file_dir=image_folder+\"/\"+image_file\n",
    "#        print(image_file_dir)\n",
    "        with Image.open(image_file_dir) as img:\n",
    "            img_resize = img.resize((960,720))\n",
    "            img_resize.save(ori_dir+folder_name+\"_resize/\"\\\n",
    "                       +image_file)"
   ]
  },
  {
   "cell_type": "markdown",
   "id": "604b2d9c",
   "metadata": {},
   "source": [
    "# 이미지 리사이즈 최종코드"
   ]
  },
  {
   "cell_type": "code",
   "execution_count": null,
   "id": "e86bf93b",
   "metadata": {},
   "outputs": [],
   "source": [
    "import os\n",
    "from PIL import Image\n",
    "\n",
    "folder_names = os.listdir(\"D:/AIhub_food_TRAIN/음식 이미지 및 영양정보 텍스트/Training/[원천]음식분류_TRAIN_024/train/\")\n",
    "\n",
    "ori_dir = \"D:/AIhub_food_TRAIN/음식 이미지 및 영양정보 텍스트/Training/[원천]음식분류_TRAIN_024/train\"\n",
    "\n",
    "\n",
    "for folder_name in folder_names:\n",
    "    if os.path.isdir(os.path.join(ori_dir, folder_name)):\n",
    "        resize_folder_name = folder_name+\"_resize\"\n",
    "        resize_folder_path = os.path.join(ori_dir, resize_folder_name)\n",
    "        if not os.path.exists(resize_folder_path):\n",
    "            os.mkdir(resize_folder_path)\n",
    "        image_folder = os.path.join(ori_dir, folder_name)\n",
    "        for image_file in os.listdir(image_folder):\n",
    "            image_file_dir=os.path.join(image_folder, image_file)\n",
    "            with Image.open(image_file_dir) as img:\n",
    "                try :\n",
    "                    img_resize = img.resize((960,720))\n",
    "                    img_resize.save(os.path.join(resize_folder_path, image_file))\n",
    "                except :\n",
    "                    continue"
   ]
  },
  {
   "cell_type": "code",
   "execution_count": null,
   "id": "174911d2",
   "metadata": {},
   "outputs": [],
   "source": []
  }
 ],
 "metadata": {
  "kernelspec": {
   "display_name": "pknu_base_kernel",
   "language": "python",
   "name": "pknu_base"
  },
  "language_info": {
   "codemirror_mode": {
    "name": "ipython",
    "version": 3
   },
   "file_extension": ".py",
   "mimetype": "text/x-python",
   "name": "python",
   "nbconvert_exporter": "python",
   "pygments_lexer": "ipython3",
   "version": "3.9.15"
  }
 },
 "nbformat": 4,
 "nbformat_minor": 5
}
