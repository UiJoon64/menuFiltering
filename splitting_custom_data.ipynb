{
 "cells": [
  {
   "cell_type": "code",
   "execution_count": 15,
   "id": "effdb2c1",
   "metadata": {},
   "outputs": [
    {
     "name": "stdout",
     "output_type": "stream",
     "text": [
      "train 02011017_resize 실패\n"
     ]
    }
   ],
   "source": [
    "import os\n",
    "import shutil\n",
    "\n",
    "for i in range(1,51):\n",
    "    img_dir = './train_resize/train_resize_{:03d}/'.format(i)\n",
    "    #print(img_dir)\n",
    "    small_img_dir = os.listdir(img_dir)\n",
    "    for j in small_img_dir:\n",
    "        #print(img_dir+j)\n",
    "        \n",
    "        img_list = os.listdir(img_dir+j)\n",
    "        #print(img_list)\n",
    "        train_list = img_list[:int(0.8*len(img_list))]\n",
    "        test_list = img_list[int(0.8*len(img_list)):]\n",
    "        \n",
    "        train_img_dir = 'C:/yolo_try/yolov7/train/images'\n",
    "        test_img_dir = 'C:/yolo_try/yolov7/test/images'\n",
    "        ori_txt_path = 'C:/pukyung_202301/miniproj/[라벨]음식분류_TRAIN (2)/txt'\n",
    "        train_txt_path = 'C:/yolo_try/yolov7/train/labels'\n",
    "        test_txt_path = 'C:/yolo_try/yolov7/test/labels'\n",
    "        \n",
    "        for idx in train_list:\n",
    "            name = idx.split('.')[0]\n",
    "            img_path = img_dir + j + '/' + idx\n",
    "            try: \n",
    "                txt_dir = ori_txt_path + '/' + idx[7:15] + '/' + name + '.txt'\n",
    "                    #print('복사성공')\n",
    "                shutil.copy(txt_dir, train_txt_path)\n",
    "                shutil.copy(img_path, train_img_dir)    \n",
    "            except:\n",
    "                print('train', idx, '실패')\n",
    "                continue\n",
    "        for idx2 in test_list:\n",
    "            #print(len(img_list))\n",
    "            #print(img_dir + num[0] + '_resize' + '/' + i)\n",
    "            #print(i.split('.')[0])\n",
    "            name = idx2.split('.')[0]\n",
    "            img_path = img_dir + j + '/' + idx2\n",
    "\n",
    "            try:    \n",
    "                txt_dir = ori_txt_path  + '/' + idx2[7:15] + '/' + name + '.txt'\n",
    "                #print('복사성공')\n",
    "                shutil.copy(txt_dir, test_txt_path)\n",
    "                shutil.copy(img_path, test_img_dir)    \n",
    "            except:\n",
    "                print('test', idx2, '실패')\n",
    "                continue\n"
   ]
  }
 ],
 "metadata": {
  "kernelspec": {
   "display_name": "pknu_nltk_kernel",
   "language": "python",
   "name": "pknu_nltk"
  },
  "language_info": {
   "codemirror_mode": {
    "name": "ipython",
    "version": 3
   },
   "file_extension": ".py",
   "mimetype": "text/x-python",
   "name": "python",
   "nbconvert_exporter": "python",
   "pygments_lexer": "ipython3",
   "version": "3.9.16"
  }
 },
 "nbformat": 4,
 "nbformat_minor": 5
}
